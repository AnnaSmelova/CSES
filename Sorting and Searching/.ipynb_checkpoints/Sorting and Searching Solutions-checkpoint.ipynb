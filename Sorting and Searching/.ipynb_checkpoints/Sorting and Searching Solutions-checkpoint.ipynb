{
 "cells": [
  {
   "cell_type": "markdown",
   "id": "expressed-amsterdam",
   "metadata": {},
   "source": [
    "### CSES Problem Set\n",
    "https://cses.fi/problemset/list/\n",
    "The CSES Problem Set is a collection of algorithmic programming problems.\n",
    "\n",
    "The goal of the project is to create a comprehensive high quality problem set for learning algorithmic programming. The current collection has 300 problems, and new problems will be gradually added."
   ]
  },
  {
   "cell_type": "markdown",
   "id": "material-melissa",
   "metadata": {},
   "source": [
    "# Sorting and Searching Solutions"
   ]
  },
  {
   "cell_type": "markdown",
   "id": "figured-guard",
   "metadata": {},
   "source": [
    "## 1(20). Distinct Numbers\n",
    "**Time limit:** 1.00 s <br>\n",
    "**Memory limit:** 512 MB\n",
    "\n",
    "You are given a list of n integers, and your task is to calculate the number of distinct values in the list.\n",
    "\n",
    "**Input:**\n",
    "The first input line has an integer n: the number of values.\n",
    "\n",
    "The second line has n integers $x_1,x_2,…,x_n$.\n",
    "\n",
    "**Output:**\n",
    "Print one integers: the number of distinct values.\n",
    "\n",
    "**Constraints:**\n",
    "$1\\leq n \\leq 2*10^5$<br>\n",
    "$1\\leq x_i \\leq 10^9$<br>\n",
    "\n",
    "**Example:**<br>\n",
    "Input:\n",
    "5<br>\n",
    "2 3 2 2 3<br>\n",
    "Output:<br>\n",
    "2"
   ]
  },
  {
   "cell_type": "markdown",
   "id": "elder-resident",
   "metadata": {},
   "source": [
    "### Решение 1(20)"
   ]
  },
  {
   "cell_type": "code",
   "execution_count": 1,
   "id": "settled-naples",
   "metadata": {},
   "outputs": [
    {
     "name": "stdout",
     "output_type": "stream",
     "text": [
      "5\n",
      "2 3 2 2 3\n",
      "2\n"
     ]
    }
   ],
   "source": [
    "def solution_20():\n",
    "    n = int(input())\n",
    "    a = list(map(int, input().split()))\n",
    "    print(len(set(a)))\n",
    "\n",
    "solution_20()"
   ]
  },
  {
   "cell_type": "code",
   "execution_count": null,
   "id": "tutorial-deployment",
   "metadata": {},
   "outputs": [],
   "source": []
  }
 ],
 "metadata": {
  "kernelspec": {
   "display_name": "Python 3",
   "language": "python",
   "name": "python3"
  },
  "language_info": {
   "codemirror_mode": {
    "name": "ipython",
    "version": 3
   },
   "file_extension": ".py",
   "mimetype": "text/x-python",
   "name": "python",
   "nbconvert_exporter": "python",
   "pygments_lexer": "ipython3",
   "version": "3.7.8"
  }
 },
 "nbformat": 4,
 "nbformat_minor": 5
}
