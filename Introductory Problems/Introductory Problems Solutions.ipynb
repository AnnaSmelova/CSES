{
 "cells": [
  {
   "cell_type": "markdown",
   "id": "lovely-maryland",
   "metadata": {},
   "source": [
    "### CSES Problem Set\n",
    "https://cses.fi/problemset/list/\n",
    "The CSES Problem Set is a collection of algorithmic programming problems.\n",
    "\n",
    "The goal of the project is to create a comprehensive high quality problem set for learning algorithmic programming. The current collection has 300 problems, and new problems will be gradually added."
   ]
  },
  {
   "cell_type": "markdown",
   "id": "lucky-accessory",
   "metadata": {},
   "source": [
    "# Introductory Problems Solutions"
   ]
  },
  {
   "cell_type": "markdown",
   "id": "competitive-rainbow",
   "metadata": {},
   "source": [
    "## 1. Weird Algorithm\n",
    "**Time limit:** 1.00 s <br>\n",
    "**Memory limit:** 512 MB\n",
    "\n",
    "Consider an algorithm that takes as input a positive integer n. If n is even, the algorithm divides it by two, and if n is odd, the algorithm multiplies it by three and adds one. The algorithm repeats this, until n is one. For example, the sequence for n=3 is as follows:\n",
    "3→10→5→16→8→4→2→1\n",
    "\n",
    "Your task is to simulate the execution of the algorithm for a given value of n.\n",
    "\n",
    "**Input:**\n",
    "The only input line contains an integer n.\n",
    "\n",
    "**Output:**\n",
    "Print a line that contains all values of n during the algorithm.\n",
    "\n",
    "**Constraints:**\n",
    "$1\\leq n \\leq 10^6$\n",
    "\n",
    "**Example:**<br>\n",
    "Input:\n",
    "3<br>\n",
    "Output:\n",
    "3 10 5 16 8 4 2 1"
   ]
  },
  {
   "cell_type": "markdown",
   "id": "monthly-terrace",
   "metadata": {},
   "source": [
    "### Решение 1\n",
    "Просто симулируем алгоритм согласно указанным правилам."
   ]
  },
  {
   "cell_type": "code",
   "execution_count": 1,
   "id": "driven-broad",
   "metadata": {},
   "outputs": [
    {
     "name": "stdout",
     "output_type": "stream",
     "text": [
      "3\n",
      "3 10 5 16 8 4 2 1\n"
     ]
    }
   ],
   "source": [
    "def solution_1():\n",
    "    n = int(input())\n",
    "    while True:\n",
    "        if n % 2 == 0:\n",
    "            print(n, end=' ')\n",
    "            n = int(n / 2)\n",
    "        elif n == 1:\n",
    "            print(n)\n",
    "            break\n",
    "        else:\n",
    "            print(n, end=' ')\n",
    "            n = n * 3 + 1\n",
    "\n",
    "solution_1()"
   ]
  },
  {
   "cell_type": "markdown",
   "id": "dimensional-miniature",
   "metadata": {},
   "source": [
    "## 2. Missing Number\n",
    "**Time limit:** 1.00 s <br>\n",
    "**Memory limit:** 512 MB\n",
    "\n",
    "You are given all numbers between 1,2,…,n except one. Your task is to find the missing number.\n",
    "\n",
    "**Input:**\n",
    "The first input line contains an integer n.\n",
    "\n",
    "The second line contains n−1 numbers. Each number is distinct and between 1 and n (inclusive).\n",
    "\n",
    "**Output:**\n",
    "Print the missing number.\n",
    "\n",
    "**Constraints:**\n",
    "$2\\leq n \\leq 2*10^5$\n",
    "\n",
    "**Example:**<br>\n",
    "Input:\n",
    "5<br>\n",
    "2 3 1 5<br>\n",
    "Output:\n",
    "4"
   ]
  },
  {
   "cell_type": "markdown",
   "id": "disciplinary-portrait",
   "metadata": {},
   "source": [
    "### Решение 2\n",
    "Строим полное множество от 1 до n. Затем выводим разницу между полным множеством и указанным."
   ]
  },
  {
   "cell_type": "code",
   "execution_count": 2,
   "id": "cognitive-spring",
   "metadata": {},
   "outputs": [
    {
     "name": "stdout",
     "output_type": "stream",
     "text": [
      "5\n",
      "2 3 1 5\n",
      "4\n"
     ]
    }
   ],
   "source": [
    "def solution_2():\n",
    "    n = int(input())\n",
    "    nums = map(int, input().split(' '))\n",
    "    n_nums = range(1,n+1)\n",
    "    print(list((set(n_nums) - set(nums)))[0])\n",
    "\n",
    "solution_2()"
   ]
  },
  {
   "cell_type": "markdown",
   "id": "neural-killing",
   "metadata": {},
   "source": [
    "## 3. Repetitions\n",
    "**Time limit:** 1.00 s <br>\n",
    "**Memory limit:** 512 MB\n",
    "\n",
    "You are given a DNA sequence: a string consisting of characters A, C, G, and T. Your task is to find the longest repetition in the sequence. This is a maximum-length substring containing only one type of character.\n",
    "\n",
    "**Input:**\n",
    "The only input line contains a string of n characters.\n",
    "\n",
    "**Output:**\n",
    "Print one integer: the length of the longest repetition.\n",
    "\n",
    "**Constraints:**\n",
    "$1\\leq n \\leq 10^6$\n",
    "\n",
    "**Example:**<br>\n",
    "Input:\n",
    "ATTCGGGA<br>\n",
    "Output:\n",
    "3"
   ]
  },
  {
   "cell_type": "markdown",
   "id": "productive-dressing",
   "metadata": {},
   "source": [
    "### Решение 3\n",
    "Заводим два счетчика: локальный и глобальный. <br>\n",
    "Идем в цикле по всем символам строки: если повторяется символ - увеличиваем локальный счетчик, если меняется символ - присваиваем глобальному счетчику максимальное значение из локального и глобального.<br> \n",
    "После завершения цикла, выводим значение глобального счетчика."
   ]
  },
  {
   "cell_type": "code",
   "execution_count": 3,
   "id": "annoying-regulation",
   "metadata": {},
   "outputs": [
    {
     "name": "stdout",
     "output_type": "stream",
     "text": [
      "ATTCGGGA\n",
      "3\n"
     ]
    }
   ],
   "source": [
    "def solution_3():\n",
    "    s = input()\n",
    "    count = 1\n",
    "    max_count = 0\n",
    "    prev = s[0]\n",
    "    for i in range(1, len(s)):\n",
    "        if s[i] == prev:\n",
    "            count += 1\n",
    "        else:\n",
    "            max_count = max(count, max_count)\n",
    "            count = 1\n",
    "            prev = s[i]\n",
    "    max_count = max(count, max_count)\n",
    "    print(max_count)\n",
    "\n",
    "solution_3()"
   ]
  },
  {
   "cell_type": "markdown",
   "id": "north-context",
   "metadata": {},
   "source": [
    "## 4. Increasing Array\n",
    "**Time limit:** 1.00 s <br>\n",
    "**Memory limit:** 512 MB\n",
    "\n",
    "You are given an array of n integers. You want to modify the array so that it is increasing, i.e., every element is at least as large as the previous element.\n",
    "\n",
    "On each move, you may increase the value of any element by one. What is the minimum number of moves required?\n",
    "\n",
    "**Input:**\n",
    "The first input line contains an integer n: the size of the array.\n",
    "\n",
    "Then, the second line contains n integers x1,x2,…,xn: the contents of the array.\n",
    "\n",
    "**Output:**\n",
    "Print the minimum number of moves.\n",
    "\n",
    "**Constraints:**<br>\n",
    "$1\\leq n \\leq 2*10^5$<br>\n",
    "$1\\leq x_i \\leq 10^9$\n",
    "\n",
    "**Example:**<br>\n",
    "Input:\n",
    "5<br>\n",
    "3 2 5 1 7<br>\n",
    "Output:\n",
    "5"
   ]
  },
  {
   "cell_type": "markdown",
   "id": "optical-cylinder",
   "metadata": {},
   "source": [
    "### Решение 4\n",
    "Вводим счетчик увеличений. <br>\n",
    "Идем в цикле по всему массиву, сравниваем соседние элементы, если не хватает - добавляем и увеличиваем счетчик.\n",
    "После завершения цикла, выводим значение счетчика."
   ]
  },
  {
   "cell_type": "code",
   "execution_count": 4,
   "id": "diverse-paradise",
   "metadata": {},
   "outputs": [
    {
     "name": "stdout",
     "output_type": "stream",
     "text": [
      "5\n",
      "3 2 5 1 7\n",
      "5\n"
     ]
    }
   ],
   "source": [
    "def solution_4():\n",
    "    n = int(input())\n",
    "    a = list(map(int, input().split(' ')))\n",
    "    c = 0\n",
    "    for i in range(n-1):\n",
    "        if a[i] > a[i+1]:\n",
    "            c += (a[i] - a[i + 1])\n",
    "            a[i+1]=a[i]\n",
    "    print(c)\n",
    "\n",
    "solution_4()"
   ]
  },
  {
   "cell_type": "markdown",
   "id": "considerable-syndication",
   "metadata": {},
   "source": [
    "## 5. Permutations\n",
    "**Time limit:** 1.00 s <br>\n",
    "**Memory limit:** 512 MB\n",
    "\n",
    "A permutation of integers 1,2,…,n is called beautiful if there are no adjacent elements whose difference is 1.\n",
    "\n",
    "Given n, construct a beautiful permutation if such a permutation exists.\n",
    "\n",
    "**Input:**\n",
    "The only input line contains an integer n.\n",
    "\n",
    "**Output:**\n",
    "Print a beautiful permutation of integers 1,2,…,n. If there are several solutions, you may print any of them. If there are no solutions, print \"NO SOLUTION\".\n",
    "\n",
    "**Constraints:**<br>\n",
    "$1\\leq n \\leq 10^6$\n",
    "\n",
    "**Example 1:**<br>\n",
    "Input:\n",
    "5<br>\n",
    "Output:\n",
    "4 2 5 3 1<br><br>\n",
    "**Example 2:**<br>\n",
    "Input:\n",
    "3<br>\n",
    "Output:\n",
    "NO SOLUTION"
   ]
  },
  {
   "cell_type": "markdown",
   "id": "waiting-bermuda",
   "metadata": {},
   "source": [
    "### Решение 5\n",
    "Для n=2 и n=3 решений нет. Для остальных сначала выводим все четные числа, затем все нечетные."
   ]
  },
  {
   "cell_type": "code",
   "execution_count": 5,
   "id": "humanitarian-driver",
   "metadata": {},
   "outputs": [
    {
     "name": "stdout",
     "output_type": "stream",
     "text": [
      "5\n",
      "2 4 1 3 5 "
     ]
    }
   ],
   "source": [
    "def solution_5():\n",
    "    n = int(input())\n",
    "    if n == 1:\n",
    "        print(1)\n",
    "    elif n == 2 or n == 3:\n",
    "        print('NO SOLUTION')\n",
    "    else:\n",
    "        for i in range(2, n+1, 2):\n",
    "            print(i, end=' ')\n",
    "        for i in range(1, n+1, 2):\n",
    "            print(i, end=' ')\n",
    "\n",
    "solution_5()"
   ]
  },
  {
   "cell_type": "markdown",
   "id": "coupled-color",
   "metadata": {},
   "source": [
    "## 6. Number Spiral\n",
    "**Time limit:** 1.00 s <br>\n",
    "**Memory limit:** 512 MB\n",
    "\n",
    "A number spiral is an infinite grid whose upper-left square has number 1. <br>\n",
    "Here are the first five layers of the spiral:\n",
    "![title](p6.png)\n",
    "\n",
    "Your task is to find out the number in row y and column x.\n",
    "\n",
    "**Input:**\n",
    "The first input line contains an integer t: the number of tests.\n",
    "\n",
    "After this, there are t lines, each containing integers y and x.\n",
    "\n",
    "**Output:**\n",
    "For each test, print the number in row y and column x.\n",
    "\n",
    "**Constraints:**<br>\n",
    "$1\\leq t \\leq 10^5$<br>\n",
    "$1\\leq y,x \\leq 10^9$\n",
    "\n",
    "**Example:**<br>\n",
    "Input:<br>\n",
    "3<br>\n",
    "2 3<br>\n",
    "1 1<br>\n",
    "4 2\n",
    "\n",
    "Output:<br>\n",
    "8<br>\n",
    "1<br>\n",
    "15"
   ]
  },
  {
   "cell_type": "markdown",
   "id": "significant-coast",
   "metadata": {},
   "source": [
    "### Решение 6\n",
    "Внимательно смотрим на сетку и пытаемся выявить закономерности для значений от номеров строк и столбцов."
   ]
  },
  {
   "cell_type": "code",
   "execution_count": 6,
   "id": "bigger-shopping",
   "metadata": {},
   "outputs": [],
   "source": [
    "def get_num(i, j):\n",
    "    if i == j:\n",
    "        return 1 + i * (i - 1)\n",
    "    if j > i:\n",
    "        if j % 2 == 0:\n",
    "            return get_num(j, j) - (j - i)\n",
    "        else:\n",
    "            return get_num(j, j) + (j - i)\n",
    "    else:\n",
    "        if i % 2 == 0:\n",
    "            return get_num(i, i) + (i - j)\n",
    "        else:\n",
    "            return get_num(i, i) - (i - j)"
   ]
  },
  {
   "cell_type": "code",
   "execution_count": 7,
   "id": "tired-caribbean",
   "metadata": {},
   "outputs": [
    {
     "name": "stdout",
     "output_type": "stream",
     "text": [
      "3\n",
      "2 3\n",
      "8\n",
      "1 1\n",
      "1\n",
      "4 2\n",
      "15\n"
     ]
    }
   ],
   "source": [
    "def solution_6():\n",
    "    t = int(input())\n",
    "    for _ in range(t):\n",
    "        y, x = map(int, input().split())\n",
    "        print(get_num(y, x))\n",
    "\n",
    "\n",
    "solution_6()"
   ]
  },
  {
   "cell_type": "markdown",
   "id": "figured-manor",
   "metadata": {},
   "source": [
    "## 7. Two Knights\n",
    "**Time limit:** 1.00 s <br>\n",
    "**Memory limit:** 512 MB\n",
    "\n",
    "Your task is to count for k=1,2,…,n the number of ways two knights can be placed on a k×k chessboard so that they do not attack each other.\n",
    "\n",
    "**Input:**\n",
    "The only input line contains an integer n.\n",
    "\n",
    "**Output:**\n",
    "Print n integers: the results.\n",
    "\n",
    "**Constraints:**<br>\n",
    "$1\\leq n \\leq 10000$\n",
    "\n",
    "**Example 1:**<br>\n",
    "Input:\n",
    "8<br>\n",
    "Output:\n",
    "4 2 5 3 1<br><br>\n",
    "**Example 2:**<br>\n",
    "Input:\n",
    "8<br>\n",
    "Output:<br>\n",
    "0<br>\n",
    "6<br>\n",
    "28<br>\n",
    "96<br>\n",
    "252<br>\n",
    "550<br>\n",
    "1056<br>\n",
    "1848"
   ]
  },
  {
   "cell_type": "markdown",
   "id": "charged-bikini",
   "metadata": {},
   "source": [
    "### Решение 7\n",
    "Если посмотреть на карту возможных ходов коня:\n",
    "![title](p7.png)\n",
    "И построить такие же карты для еще пары значений размеров поля, то можно отловить зависимость количества \"плохих\" клеток от размера поля."
   ]
  },
  {
   "cell_type": "code",
   "execution_count": 8,
   "id": "charming-alloy",
   "metadata": {},
   "outputs": [],
   "source": [
    "def get_bad_points_count(n):\n",
    "    if n == 1:\n",
    "        return 0\n",
    "    elif n == 2:\n",
    "        return 6\n",
    "    elif n == 3:\n",
    "        return 28\n",
    "    elif n == 4:\n",
    "        return 96\n",
    "    else:\n",
    "        return int((n**4 - n**2 - 8 * (n - 4)**2 - 40 * (n - 4) - 48) / 2)"
   ]
  },
  {
   "cell_type": "code",
   "execution_count": 10,
   "id": "chicken-courage",
   "metadata": {},
   "outputs": [
    {
     "name": "stdout",
     "output_type": "stream",
     "text": [
      "8\n",
      "0\n",
      "6\n",
      "28\n",
      "96\n",
      "252\n",
      "550\n",
      "1056\n",
      "1848\n"
     ]
    }
   ],
   "source": [
    "def solution_7():\n",
    "    n = int(input())\n",
    "    for k in range(1, n + 1):\n",
    "        print(get_bad_points_count(k))\n",
    "\n",
    "\n",
    "solution_7()"
   ]
  },
  {
   "cell_type": "markdown",
   "id": "documented-alabama",
   "metadata": {},
   "source": [
    "## 8. Two Sets\n",
    "**Time limit:** 1.00 s <br>\n",
    "**Memory limit:** 512 MB\n",
    "\n",
    "Your task is to divide the numbers 1,2,…,n into two sets of equal sum.\n",
    "\n",
    "**Input:**\n",
    "The only input line contains an integer n.\n",
    "\n",
    "**Output:**\n",
    "Print \"YES\", if the division is possible, and \"NO\" otherwise.\n",
    "\n",
    "After this, if the division is possible, print an example of how to create the sets. First, print the number of elements in the first set followed by the elements themselves in a separate line, and then, print the second set in a similar way.\n",
    "\n",
    "**Constraints:**<br>\n",
    "$1\\leq n \\leq 10^6$\n",
    "\n",
    "**Example 1:**<br>\n",
    "Input:\n",
    "7<br>\n",
    "Output:\n",
    "YES<br>\n",
    "4<br>\n",
    "1 2 4 7<br>\n",
    "3<br>\n",
    "3 5 6<br><br>\n",
    "**Example 2:**<br>\n",
    "Input:\n",
    "6<br>\n",
    "Output:<br>\n",
    "NO"
   ]
  },
  {
   "cell_type": "markdown",
   "id": "technical-farming",
   "metadata": {},
   "source": [
    "### Решение 8\n",
    "Сначала считаем сумму ряда. Если нечетная - разделить не получится. Если четная, то получится: по очереди берем сначала самое большое число, складываем с самым маленьким, затем следующее большое число, прибавляем следующее по величине маленькое до тех пор, пока сумма не достигнет половину от общей суммы ряда (то есть постепенно набираем сумму, забирая элементы то справа, то слева ряда)."
   ]
  },
  {
   "cell_type": "code",
   "execution_count": 11,
   "id": "enclosed-bennett",
   "metadata": {},
   "outputs": [
    {
     "name": "stdout",
     "output_type": "stream",
     "text": [
      "7\n",
      "YES\n",
      "3\n",
      "7 6 1\n",
      "4\n",
      "2 3 4 5\n"
     ]
    }
   ],
   "source": [
    "def solution_8():\n",
    "    n = int(input())\n",
    "    s = (1 + n) * n / 2\n",
    "    if s % 2 == 1:\n",
    "        print('NO')\n",
    "    else:\n",
    "        print('YES')\n",
    "        lst = list(range(1, n+1))\n",
    "        big_ind_cnt = n // 4\n",
    "        small_ind_cnt = big_ind_cnt - 1\n",
    "        big = lst[n - big_ind_cnt:]\n",
    "        sm = lst[:small_ind_cnt]\n",
    "        cur_sum = sum(big) + sum(sm)\n",
    "        if cur_sum < s / 2:\n",
    "            sm.append(lst[small_ind_cnt])\n",
    "            cur_sum += lst[small_ind_cnt]\n",
    "        if cur_sum < s / 2:\n",
    "            big.append(lst[n - big_ind_cnt - 1])\n",
    "            cur_sum += lst[n - big_ind_cnt - 1]\n",
    "        if cur_sum == s / 2:\n",
    "            first = big + sm\n",
    "            print(len(first))\n",
    "            print(' '.join(list(map(str,first))))\n",
    "            second = list(set(lst) - set(first))\n",
    "            print(len(second))\n",
    "            print(' '.join(list(map(str, second))))\n",
    "solution_8()"
   ]
  },
  {
   "cell_type": "markdown",
   "id": "dense-functionality",
   "metadata": {},
   "source": [
    "## 9. Bit Strings\n",
    "**Time limit:** 1.00 s <br>\n",
    "**Memory limit:** 512 MB\n",
    "\n",
    "Your task is to calculate the number of bit strings of length n.\n",
    "\n",
    "For example, if n=3, the correct answer is 8, because the possible bit strings are 000, 001, 010, 011, 100, 101, 110, and 111.\n",
    "\n",
    "**Input:**\n",
    "The only input line has an integer n.\n",
    "\n",
    "**Output:**\n",
    "Print the result modulo $10^9+7$.\n",
    "\n",
    "**Constraints:**<br>\n",
    "$1\\leq n \\leq 10^6$\n",
    "\n",
    "**Example:**<br>\n",
    "Input:\n",
    "3<br>\n",
    "Output:\n",
    "8"
   ]
  },
  {
   "cell_type": "markdown",
   "id": "changing-enough",
   "metadata": {},
   "source": [
    "### Решение 9\n",
    "Количество размещений из n элементов по k с повторениями равно $n^k$."
   ]
  },
  {
   "cell_type": "code",
   "execution_count": 12,
   "id": "cardiovascular-india",
   "metadata": {},
   "outputs": [
    {
     "name": "stdout",
     "output_type": "stream",
     "text": [
      "3\n",
      "8\n"
     ]
    }
   ],
   "source": [
    "def solution_9():\n",
    "    n = int(input())\n",
    "    print(2**n % (10**9+7))\n",
    "\n",
    "\n",
    "solution_9()"
   ]
  },
  {
   "cell_type": "markdown",
   "id": "classical-joining",
   "metadata": {},
   "source": [
    "## 10. Trailing Zeros\n",
    "**Time limit:** 1.00 s <br>\n",
    "**Memory limit:** 512 MB\n",
    "\n",
    "Your task is to calculate the number of trailing zeros in the factorial n!.\n",
    "\n",
    "For example, 20!=2432902008176640000 and it has 4 trailing zeros.\n",
    "\n",
    "**Input:**\n",
    "The only input line has an integer n.\n",
    "\n",
    "**Output:**\n",
    "Print the number of trailing zeros in n!.\n",
    "\n",
    "**Constraints:**<br>\n",
    "$1\\leq n \\leq 10^9$\n",
    "\n",
    "**Example:**<br>\n",
    "Input:\n",
    "20<br>\n",
    "Output:\n",
    "4"
   ]
  },
  {
   "cell_type": "markdown",
   "id": "increased-florida",
   "metadata": {},
   "source": [
    "### Решение 10\n",
    "Ноль в конце произведения появляется в результате перемножения 2 и 5. Но поскольку при разложении на простые множители числа n! двоек больше чем пятерок, то количество нулей в конце n! равно количеству пятерок в разложении n! на простые множители. "
   ]
  },
  {
   "cell_type": "code",
   "execution_count": 13,
   "id": "interracial-stock",
   "metadata": {},
   "outputs": [
    {
     "name": "stdout",
     "output_type": "stream",
     "text": [
      "20\n",
      "4\n"
     ]
    }
   ],
   "source": [
    "def solution_10():\n",
    "    n = int(input())\n",
    "    cnt = 0\n",
    "    while n > 0:\n",
    "        n = n // 5\n",
    "        cnt += n\n",
    "    print(cnt)\n",
    "\n",
    "solution_10()"
   ]
  },
  {
   "cell_type": "code",
   "execution_count": null,
   "id": "dominican-wagon",
   "metadata": {},
   "outputs": [],
   "source": []
  }
 ],
 "metadata": {
  "kernelspec": {
   "display_name": "Python 3",
   "language": "python",
   "name": "python3"
  },
  "language_info": {
   "codemirror_mode": {
    "name": "ipython",
    "version": 3
   },
   "file_extension": ".py",
   "mimetype": "text/x-python",
   "name": "python",
   "nbconvert_exporter": "python",
   "pygments_lexer": "ipython3",
   "version": "3.7.8"
  }
 },
 "nbformat": 4,
 "nbformat_minor": 5
}
